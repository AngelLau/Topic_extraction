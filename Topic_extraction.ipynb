{
 "cells": [
  {
   "cell_type": "code",
   "execution_count": 10,
   "metadata": {},
   "outputs": [],
   "source": [
    "import re\n",
    "import string\n",
    "import nltk\n",
    "from nltk.corpus import stopwords\n",
    "from nltk.stem import WordNetLemmatizer\n",
    "import gensim"
   ]
  },
  {
   "cell_type": "code",
   "execution_count": 2,
   "metadata": {},
   "outputs": [],
   "source": [
    "with open('text.txt', 'r') as f:\n",
    "    text = f.readlines()"
   ]
  },
  {
   "cell_type": "code",
   "execution_count": 3,
   "metadata": {},
   "outputs": [],
   "source": [
    "def prepocess(text):\n",
    "    return re.sub(r\"[^a-zA-Z0-9]+\", ' ', re.sub(r'\\d+', '', text.lower()).translate(str.maketrans('', '', string.punctuation)).strip())"
   ]
  },
  {
   "cell_type": "code",
   "execution_count": 4,
   "metadata": {},
   "outputs": [],
   "source": [
    "a = []\n",
    "for sent in text:\n",
    "    a.append(prepocess(sent))"
   ]
  },
  {
   "cell_type": "code",
   "execution_count": 5,
   "metadata": {},
   "outputs": [],
   "source": [
    "stop_words = set(stopwords.words('english'))\n",
    "from nltk.tokenize import word_tokenize\n",
    "tokens = word_tokenize(str(a))\n",
    "result = [i for i in tokens if not i in stop_words]"
   ]
  },
  {
   "cell_type": "code",
   "execution_count": 6,
   "metadata": {},
   "outputs": [],
   "source": [
    "lemmatizer=WordNetLemmatizer()\n",
    "preprocess_text = []\n",
    "for word in result:\n",
    "    preprocess_text.append(lemmatizer.lemmatize(word))"
   ]
  },
  {
   "cell_type": "code",
   "execution_count": 15,
   "metadata": {},
   "outputs": [],
   "source": [
    "pre_token = word_tokenize(str(preprocess_text))"
   ]
  },
  {
   "cell_type": "code",
   "execution_count": 27,
   "metadata": {},
   "outputs": [],
   "source": [
    "dictionary = gensim.corpora.Dictionary([d.split() for d in preprocess_text])"
   ]
  },
  {
   "cell_type": "code",
   "execution_count": 28,
   "metadata": {},
   "outputs": [],
   "source": [
    "bow_corpus = [dictionary.doc2bow(doc) for doc in[d.split() for d in preprocess_text]]"
   ]
  },
  {
   "cell_type": "code",
   "execution_count": 34,
   "metadata": {},
   "outputs": [],
   "source": [
    "# for i in range(len(bow_doc_x)):\n",
    "#     print(\"Word {} (\\\"{}\\\") appears {} time.\".format(bow_doc_x[i][0], \n",
    "#                                                      dictionary[bow_doc_x[i][0]], \n",
    "#                                                      bow_doc_x[i][1]))"
   ]
  },
  {
   "cell_type": "code",
   "execution_count": 35,
   "metadata": {},
   "outputs": [],
   "source": [
    "lda_model =  gensim.models.LdaMulticore(bow_corpus, \n",
    "                                   num_topics = 8, \n",
    "                                   id2word = dictionary,                                    \n",
    "                                   passes = 10,\n",
    "                                   workers = 2)"
   ]
  },
  {
   "cell_type": "code",
   "execution_count": 32,
   "metadata": {},
   "outputs": [
    {
     "name": "stdout",
     "output_type": "stream",
     "text": [
      "(0, '0.060*\"york\" + 0.046*\"free\" + 0.026*\"use\" + 0.021*\"say\"')\n",
      "(1, '0.037*\"public\" + 0.024*\"also\" + 0.015*\"could\" + 0.015*\"security\"')\n",
      "(2, '0.092*\"city\" + 0.059*\"kiosk\" + 0.035*\"\\'\" + 0.028*\"user\"')\n",
      "(3, '0.037*\"network\" + 0.030*\"said\" + 0.026*\"internet\" + 0.024*\"one\"')\n",
      "(4, '0.057*\"wifi\" + 0.041*\"service\" + 0.026*\"data\" + 0.018*\"company\"')\n",
      "(5, '0.024*\"xexx\" + 0.023*\"technology\" + 0.022*\"device\" + 0.017*\"need\"')\n",
      "(6, '0.065*\"linknyc\" + 0.032*\"link\" + 0.026*\"privacy\" + 0.025*\"access\"')\n",
      "(7, '0.106*\"new\" + 0.031*\"people\" + 0.025*\",\" + 0.022*\"make\"')\n"
     ]
    }
   ],
   "source": [
    "topics = lda_model.print_topics(num_words=4)\n",
    "for topic in topics:\n",
    "    print(topic)"
   ]
  }
 ],
 "metadata": {
  "kernelspec": {
   "display_name": "Python 3",
   "language": "python",
   "name": "python3"
  },
  "language_info": {
   "codemirror_mode": {
    "name": "ipython",
    "version": 3
   },
   "file_extension": ".py",
   "mimetype": "text/x-python",
   "name": "python",
   "nbconvert_exporter": "python",
   "pygments_lexer": "ipython3",
   "version": "3.7.1"
  }
 },
 "nbformat": 4,
 "nbformat_minor": 2
}
